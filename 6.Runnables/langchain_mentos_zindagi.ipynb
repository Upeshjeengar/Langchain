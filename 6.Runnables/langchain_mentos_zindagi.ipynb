{
  "cells": [
    {
      "cell_type": "code",
      "execution_count": null,
      "metadata": {
        "id": "X17XNOaKGr45"
      },
      "outputs": [],
      "source": [
        "from abc import ABC, abstractmethod #abstract base classes\n",
        "# Importing ABC (Abstract Base Class) and abstractmethod decorator\n",
        "# These are used to create abstract classes and methods in Python"
      ]
    },
    {
      "cell_type": "code",
      "execution_count": null,
      "metadata": {
        "id": "IFz_UygPG14c"
      },
      "outputs": [],
      "source": [
        "# Defining the base Runnable class that all components will inherit from\n",
        "# This is an abstract class that enforces a common interface\n",
        "class Runnable(ABC):\n",
        "# Abstract method that must be implemented by all child classes\n",
        "# This ensures consistent behavior across all runnable components\n",
        "  @abstractmethod\n",
        "  def invoke(input_data):\n",
        "    pass"
      ]
    },
    {
      "cell_type": "code",
      "execution_count": null,
      "metadata": {
        "id": "WPyqRUB0G2Fl"
      },
      "outputs": [],
      "source": [
        "import random\n",
        "\n",
        "# Creating a mock LLM (Language Learning Model) class that inherits from Runnable\n",
        "class NakliLLM(Runnable):\n",
        "    # Constructor that prints when an instance is created\n",
        "    def __init__(self):\n",
        "        print('LLM created')\n",
        "\n",
        "    # Implementation of invoke method that returns random responses\n",
        "    def invoke(self, prompt):\n",
        "        # List of predefined responses for demonstration\n",
        "        response_list = [\n",
        "            'Delhi is the capital of India',\n",
        "            'IPL is a cricket league',\n",
        "            'AI stands for Artificial Intelligence'\n",
        "        ]\n",
        "        # Returns a dictionary with a random response\n",
        "        return {'response': random.choice(response_list)}\n",
        "\n",
        "    # Alternative method for prediction (similar to invoke)\n",
        "    def predict(self, prompt):\n",
        "        response_list = [\n",
        "            'Delhi is the capital of India',\n",
        "            'IPL is a cricket league',\n",
        "            'AI stands for Artificial Intelligence'\n",
        "        ]\n",
        "        return {'response': random.choice(response_list)}\n"
      ]
    },
    {
      "cell_type": "code",
      "execution_count": null,
      "metadata": {
        "id": "KDiHeGomG5ek"
      },
      "outputs": [],
      "source": [
        "# Creating a template class for formatting prompts\n",
        "class NakliPromptTemplate(Runnable):\n",
        "    # Constructor takes template string and list of input variables\n",
        "    def __init__(self, template, input_variables):\n",
        "        self.template = template\n",
        "        self.input_variables = input_variables\n",
        "\n",
        "    # Formats the template with provided input dictionary\n",
        "    def invoke(self, input_dict):\n",
        "        return self.template.format(**input_dict)\n",
        "\n",
        "    # Alternative method for formatting\n",
        "    def format(self, input_dict):\n",
        "        return self.template.format(**input_dict)"
      ]
    },
    {
      "cell_type": "code",
      "execution_count": null,
      "metadata": {
        "id": "aN4aoIOXMn4z"
      },
      "outputs": [],
      "source": [
        "# Creating a parser class to extract response from LLM output\n",
        "class NakliStrOutputParser(Runnable):\n",
        "    def __init__(self):\n",
        "        pass\n",
        "\n",
        "    # Extracts the 'response' key from the input dictionary\n",
        "    def invoke(self, input_data):\n",
        "        return input_data['response']"
      ]
    },
    {
      "cell_type": "code",
      "execution_count": null,
      "metadata": {
        "id": "IMiDtySDIIzj"
      },
      "outputs": [],
      "source": [
        "# Creating a connector class to chain multiple runnables together\n",
        "class RunnableConnector(Runnable):\n",
        "    # Constructor takes a list of runnable components\n",
        "    def __init__(self, runnable_list):\n",
        "        self.runnable_list = runnable_list\n",
        "\n",
        "    # Executes each runnable in sequence, passing output as input to next\n",
        "    def invoke(self, input_data):\n",
        "        for runnable in self.runnable_list:\n",
        "            input_data = runnable.invoke(input_data)\n",
        "        return input_data"
      ]
    },
    {
      "cell_type": "code",
      "execution_count": null,
      "metadata": {
        "id": "Y_c_Lk6fMJ8s"
      },
      "outputs": [],
      "source": [
        "template = NakliPromptTemplate(\n",
        "    template='Write a {length} poem about {topic}',\n",
        "    input_variables=['length', 'topic']\n",
        ")\n",
        "# Creating a prompt template for poem generation"
      ]
    },
    {
      "cell_type": "code",
      "execution_count": null,
      "metadata": {
        "colab": {
          "base_uri": "https://localhost:8080/"
        },
        "id": "--x-JA5_MPgg",
        "outputId": "a4acdfc2-67c4-4bd1-b349-8f1e10ee503b"
      },
      "outputs": [
        {
          "name": "stdout",
          "output_type": "stream",
          "text": [
            "LLM created\n"
          ]
        }
      ],
      "source": [
        "llm = NakliLLM()"
      ]
    },
    {
      "cell_type": "code",
      "execution_count": null,
      "metadata": {
        "id": "3YC3jTYtM3Pr"
      },
      "outputs": [],
      "source": [
        "parser = NakliStrOutputParser()"
      ]
    },
    {
      "cell_type": "code",
      "execution_count": null,
      "metadata": {
        "id": "vgp10rvlLrOt"
      },
      "outputs": [],
      "source": [
        "chain = RunnableConnector([template, llm, parser])"
      ]
    },
    {
      "cell_type": "code",
      "execution_count": null,
      "metadata": {
        "colab": {
          "base_uri": "https://localhost:8080/",
          "height": 35
        },
        "id": "Vpbx5zxfMYtn",
        "outputId": "758d7517-fcaf-4b88-8b38-29ea96774f06"
      },
      "outputs": [
        {
          "data": {
            "application/vnd.google.colaboratory.intrinsic+json": {
              "type": "string"
            },
            "text/plain": [
              "'Delhi is the capital of India'"
            ]
          },
          "execution_count": 21,
          "metadata": {},
          "output_type": "execute_result"
        }
      ],
      "source": [
        "chain.invoke({'length':'long', 'topic':'india'})"
      ]
    },
    {
      "cell_type": "code",
      "execution_count": null,
      "metadata": {
        "id": "MZ9QqMQhOGIH"
      },
      "outputs": [],
      "source": [
        "template1 = NakliPromptTemplate(\n",
        "    template='Write a joke about {topic}',\n",
        "    input_variables=['topic']\n",
        ")"
      ]
    },
    {
      "cell_type": "code",
      "execution_count": null,
      "metadata": {
        "id": "-GPhO_fxPiSp"
      },
      "outputs": [],
      "source": [
        "template2 = NakliPromptTemplate(\n",
        "    template='Explain the following joke {response}',\n",
        "    input_variables=['response']\n",
        ")"
      ]
    },
    {
      "cell_type": "code",
      "execution_count": null,
      "metadata": {
        "colab": {
          "base_uri": "https://localhost:8080/"
        },
        "id": "-tl05IwNPsmc",
        "outputId": "db24047e-0bd9-442b-bb49-9f6c428f69a0"
      },
      "outputs": [
        {
          "name": "stdout",
          "output_type": "stream",
          "text": [
            "LLM created\n"
          ]
        }
      ],
      "source": [
        "llm = NakliLLM()"
      ]
    },
    {
      "cell_type": "code",
      "execution_count": null,
      "metadata": {
        "id": "VQEM8GzBPvTT"
      },
      "outputs": [],
      "source": [
        "parser = NakliStrOutputParser()"
      ]
    },
    {
      "cell_type": "code",
      "execution_count": null,
      "metadata": {
        "id": "l4XLvuL0PxPz"
      },
      "outputs": [],
      "source": [
        "chain1 = RunnableConnector([template1, llm])"
      ]
    },
    {
      "cell_type": "code",
      "execution_count": null,
      "metadata": {
        "id": "mnGtEGWMP6GQ"
      },
      "outputs": [],
      "source": [
        "chain2 = RunnableConnector([template2, llm, parser])"
      ]
    },
    {
      "cell_type": "code",
      "execution_count": null,
      "metadata": {
        "id": "j4-MXTQZQIXF"
      },
      "outputs": [],
      "source": [
        "final_chain = RunnableConnector([chain1, chain2])"
      ]
    },
    {
      "cell_type": "code",
      "execution_count": null,
      "metadata": {
        "colab": {
          "base_uri": "https://localhost:8080/",
          "height": 35
        },
        "id": "lAS8bw7cQP2h",
        "outputId": "60fa1d9f-9bd8-494b-cf4c-713a07bc3121"
      },
      "outputs": [
        {
          "data": {
            "application/vnd.google.colaboratory.intrinsic+json": {
              "type": "string"
            },
            "text/plain": [
              "'Delhi is the capital of India'"
            ]
          },
          "execution_count": 40,
          "metadata": {},
          "output_type": "execute_result"
        }
      ],
      "source": [
        "final_chain.invoke({'topic':'cricket'})"
      ]
    },
    {
      "cell_type": "code",
      "execution_count": null,
      "metadata": {
        "id": "36djpb9IQT2e"
      },
      "outputs": [],
      "source": []
    }
  ],
  "metadata": {
    "colab": {
      "provenance": []
    },
    "kernelspec": {
      "display_name": "Python 3",
      "name": "python3"
    },
    "language_info": {
      "name": "python"
    }
  },
  "nbformat": 4,
  "nbformat_minor": 0
}
